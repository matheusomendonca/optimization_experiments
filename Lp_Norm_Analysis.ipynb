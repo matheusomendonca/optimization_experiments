{
 "cells": [
  {
   "cell_type": "markdown",
   "metadata": {
    "colab_type": "text",
    "id": "uvwTTtY8dFB_"
   },
   "source": [
    "# $l_p$-norm penalty analysis\n",
    "\n",
    "Reference: Boyd, Stephen, and Lieven Vandenberghe. Convex optimization. Cambridge university press, 2004."
   ]
  },
  {
   "cell_type": "code",
   "execution_count": 0,
   "metadata": {
    "colab": {},
    "colab_type": "code",
    "id": "SmJExZE-zjch"
   },
   "outputs": [],
   "source": [
    "# libraries\n",
    "import numpy as np\n",
    "import matplotlib.pyplot as plt\n",
    "from scipy.optimize import linprog"
   ]
  },
  {
   "cell_type": "code",
   "execution_count": 0,
   "metadata": {
    "colab": {},
    "colab_type": "code",
    "id": "6EfGp7zi25Q7"
   },
   "outputs": [],
   "source": [
    "# generate data\n",
    "n, m = 100, 30\n",
    "A = np.random.rand(n, m)\n",
    "b = np.random.rand(n, 1)"
   ]
  },
  {
   "cell_type": "markdown",
   "metadata": {
    "colab_type": "text",
    "id": "XC8Q0cbbJSOA"
   },
   "source": [
    "## $l_2$-norm solution\n",
    "\n",
    "$$x = (A^TA)^{-1}A^Tb$$"
   ]
  },
  {
   "cell_type": "code",
   "execution_count": 0,
   "metadata": {
    "colab": {},
    "colab_type": "code",
    "id": "7EG_c_rj3KOT"
   },
   "outputs": [],
   "source": [
    "# l2-norm solution\n",
    "x_l2 = np.dot(np.linalg.pinv(A), b)"
   ]
  },
  {
   "cell_type": "markdown",
   "metadata": {
    "colab_type": "text",
    "id": "CXXiIrZbKBPV"
   },
   "source": [
    "## $l_1$-norm solution\n",
    "\n",
    "The following problem:\n",
    "$$min_x \\sum_{i=1}^n |a_i^Tx - b_i|,$$\n",
    "\n",
    "converts to a linear programming optimization in the form: \n",
    "\n",
    "\n",
    "$$\\min_x  1^Tt\\\\\n",
    "\\text{subject to}~Ax - t \\leq b\\\\\n",
    "\\quad\\quad\\quad~-Ax - t \\leq -b\\\\\n",
    "\\quad\\quad t \\geq 0, t \\in \\mathbb{R}^n\n",
    "$$"
   ]
  },
  {
   "cell_type": "code",
   "execution_count": 0,
   "metadata": {
    "colab": {},
    "colab_type": "code",
    "id": "4REtje-2JNIh"
   },
   "outputs": [],
   "source": [
    "# l1-norm solution: optimization parameters\n",
    "\n",
    "# inequality contraint matrix\n",
    "A_ub1 = np.c_[A, -np.eye(n)]\n",
    "A_ub2 = np.c_[-A, -np.eye(n)]\n",
    "A_ub = np.r_[A_ub1, A_ub2]\n",
    "\n",
    "# inequality contraint bounds\n",
    "b_ub = np.r_[b, -b]\n",
    "\n",
    "# linear objective coefficients\n",
    "c = np.ones((A_ub.shape[1], 1))\n",
    "c[0:m] = 0\n",
    "\n",
    "# bounds\n",
    "x_bounds = np.c_[-np.inf*np.ones((m+n, 1)), np.inf*np.ones((m+n, 1))]\n",
    "x_bounds[m:, 0] = 0"
   ]
  },
  {
   "cell_type": "code",
   "execution_count": 0,
   "metadata": {
    "colab": {},
    "colab_type": "code",
    "id": "3g_y-ghlSaO9"
   },
   "outputs": [],
   "source": [
    "# solve linear progam\n",
    "output = linprog(c, A_ub=A_ub, b_ub=b_ub, bounds=x_bounds)"
   ]
  },
  {
   "cell_type": "code",
   "execution_count": 0,
   "metadata": {
    "colab": {},
    "colab_type": "code",
    "id": "1crGmYQ0Su8l"
   },
   "outputs": [],
   "source": [
    "# optimization result\n",
    "x_l1 = output.x[:m].reshape(-1, 1)"
   ]
  },
  {
   "cell_type": "code",
   "execution_count": 0,
   "metadata": {
    "colab": {},
    "colab_type": "code",
    "id": "PpJbmu6bTFCh"
   },
   "outputs": [],
   "source": [
    "# errors\n",
    "l1_error = np.dot(A, x_l1) - b\n",
    "l2_error = np.dot(A, x_l2) - b"
   ]
  },
  {
   "cell_type": "code",
   "execution_count": 177,
   "metadata": {
    "colab": {
     "base_uri": "https://localhost:8080/",
     "height": 496
    },
    "colab_type": "code",
    "id": "awBOTVKQ37bS",
    "outputId": "79417a35-2561-4e65-cb34-0ba4a533d7ea"
   },
   "outputs": [
    {
     "data": {
      "image/png": "[encoded data removed]",
      "text/plain": [
       "<Figure size 576x576 with 2 Axes>"
      ]
     },
     "metadata": {
      "tags": []
     },
     "output_type": "display_data"
    }
   ],
   "source": [
    "# plot\n",
    "grid = np.linspace(-2, 2, 100)\n",
    "scale_factor = 5\n",
    "\n",
    "plt.figure(figsize=(8,8))\n",
    "ax1 = plt.subplot(211)\n",
    "ax1.hist(l1_error)\n",
    "ax1.plot(grid, scale_factor*np.abs(grid), label='$l_1$-norm penalty profile')\n",
    "ax1.set_ylabel('$l_1$-norm error frequency')\n",
    "ax1.set_yticks(np.arange(0, 50, 5))\n",
    "ax1.legend()\n",
    "ax1.grid()\n",
    "\n",
    "ax2 = plt.subplot(212, sharex=ax1)\n",
    "ax2.hist(l2_error)\n",
    "ax2.plot(grid, scale_factor*grid**2, label='$l_2$-norm penalty profile')\n",
    "ax2.set_xlabel(\"Residuals\")\n",
    "ax2.set_ylabel('$l_2$-norm error frequency')\n",
    "ax2.set_yticks(np.arange(0, 50, 5))\n",
    "ax2.legend()\n",
    "ax2.grid()\n",
    "plt.show()"
   ]
  },
  {
   "cell_type": "markdown",
   "metadata": {
    "colab_type": "text",
    "id": "-tpUDD_YV4LJ"
   },
   "source": [
    "## Conclusions\n",
    "\n",
    "- $l_1$-norm penalty puts the most weight on small residuals and the least weight on large residuals: it finds the hyperplane that passes through the median of residuals. Thus, being more robust to extreme values;\n",
    "- $l_2$-norm penalty puts very small weight on small residuals, but strong weight on large residuals: it finds the hyperplane that passes through the mean of residuals. Thus, being more sensitive to extreme values."
   ]
  },
  {
   "cell_type": "code",
   "execution_count": 0,
   "metadata": {
    "colab": {},
    "colab_type": "code",
    "id": "qLcFfCdMchjK"
   },
   "outputs": [],
   "source": []
  }
 ],
 "metadata": {
  "colab": {
   "collapsed_sections": [],
   "name": "Lp-Norm_Analysis.ipynb",
   "provenance": []
  },
  "kernelspec": {
   "display_name": "Python 3",
   "language": "python",
   "name": "python3"
  },
  "language_info": {
   "codemirror_mode": {
    "name": "ipython",
    "version": 3
   },
   "file_extension": ".py",
   "mimetype": "text/x-python",
   "name": "python",
   "nbconvert_exporter": "python",
   "pygments_lexer": "ipython3",
   "version": "3.8.1"
  }
 },
 "nbformat": 4,
 "nbformat_minor": 1
}
