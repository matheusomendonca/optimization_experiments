{
  "nbformat": 4,
  "nbformat_minor": 0,
  "metadata": {
    "kernelspec": {
      "display_name": "Python 3",
      "language": "python",
      "name": "python3"
    },
    "language_info": {
      "codemirror_mode": {
        "name": "ipython",
        "version": 3
      },
      "file_extension": ".py",
      "mimetype": "text/x-python",
      "name": "python",
      "nbconvert_exporter": "python",
      "pygments_lexer": "ipython3",
      "version": "3.6.8"
    },
    "colab": {
      "name": "Regularization Experiment.ipynb",
      "provenance": [],
      "collapsed_sections": []
    }
  },
  "cells": [
    {
      "cell_type": "code",
      "metadata": {
        "id": "2zjq0qlKKidF",
        "colab_type": "code",
        "colab": {}
      },
      "source": [
        "# imports\n",
        "import numpy as np\n",
        "import matplotlib.pyplot as plt\n",
        "from matplotlib.pylab import rcParams\n",
        "\n",
        "# figure size\n",
        "rcParams['figure.figsize'] = (5,5)"
      ],
      "execution_count": 0,
      "outputs": []
    },
    {
      "cell_type": "code",
      "metadata": {
        "id": "KlFCvt5gKidT",
        "colab_type": "code",
        "colab": {}
      },
      "source": [
        "def add_ones(X):\n",
        "    \"\"\"Append column of ones.\"\"\"\n",
        "    n = X.shape[0]\n",
        "    return np.c_[np.ones(n), X]"
      ],
      "execution_count": 0,
      "outputs": []
    },
    {
      "cell_type": "code",
      "metadata": {
        "id": "D7ivP7IJKida",
        "colab_type": "code",
        "colab": {}
      },
      "source": [
        "def matrix2npower(X, n=1):\n",
        "    \"\"\"Takes a matrix [X] and creates a [X^1, X^2,...,X^n] matrix.\"\"\"\n",
        "    \n",
        "    if X.shape[1] > 1:\n",
        "        raise Warning('X must be a (n x 1)-matrix!')\n",
        "    if n < 1:\n",
        "        raise Warning('n must be greater than 0!')\n",
        "    \n",
        "    Xt = np.tile(X, (1, n))\n",
        "    return np.power(Xt, np.arange(1, n+1))"
      ],
      "execution_count": 0,
      "outputs": []
    },
    {
      "cell_type": "markdown",
      "metadata": {
        "id": "KZR05ysLKidg",
        "colab_type": "text"
      },
      "source": [
        "Os parâmetros do modelos são dados por meio de:\n",
        "\n",
        "$$\\beta = [(1-\\lambda) X^TX + \\lambda I]^{-1}(1-\\lambda)X^Ty,~\\lambda \\in [0,1].$$"
      ]
    },
    {
      "cell_type": "code",
      "metadata": {
        "id": "zOc7GZY3Kidh",
        "colab_type": "code",
        "colab": {}
      },
      "source": [
        "def compute_beta(X, y, l=0.):\n",
        "    \"\"\"Compute coefficients of regression.\"\"\"\n",
        "    return np.dot(np.dot(np.linalg.inv((1-l)*np.dot(X.T,X) + l*np.eye(X.shape[1])), (1-l)*X.T), y)"
      ],
      "execution_count": 0,
      "outputs": []
    },
    {
      "cell_type": "code",
      "metadata": {
        "id": "ad8pwk0NKidn",
        "colab_type": "code",
        "colab": {}
      },
      "source": [
        "def error_complexity(X, y, l_grid=np.linspace(0,1,20)):\n",
        "    \"\"\"Compute error and complexity for a given penalization factor.\"\"\"\n",
        "    \n",
        "    # error check\n",
        "    if 0 > l_grid.any() < 1:\n",
        "        raise ValueError(\"Lambda must be within [0, 1].\")\n",
        "    \n",
        "    # length\n",
        "    n = l_grid.size\n",
        "    \n",
        "    E = np.zeros(n)\n",
        "    C = np.zeros(n)\n",
        "    for i in range(n):\n",
        "        \n",
        "        # penalization factor\n",
        "        l = l_grid[i]\n",
        "        \n",
        "        # compute coeffients\n",
        "        beta = compute_beta(X, y, l)\n",
        "        \n",
        "        # computer error\n",
        "        error =  np.dot(X, beta) - y\n",
        "        E[i] = error.T @ error\n",
        "        \n",
        "        # complexity\n",
        "        C[i] = beta.T @ beta\n",
        "        \n",
        "    return E, C"
      ],
      "execution_count": 0,
      "outputs": []
    },
    {
      "cell_type": "code",
      "metadata": {
        "id": "wYbSaCa9Kids",
        "colab_type": "code",
        "colab": {}
      },
      "source": [
        "# base functions\n",
        "f = lambda x: x - 0.5\n",
        "\n",
        "# generating data\n",
        "n = 40  # number of data points\n",
        "xs = np.linspace(-1, 1, n) \n",
        "\n",
        "# gaussian noise\n",
        "np.random.seed(10)\n",
        "noise = np.random.normal(loc=0.0, scale=.25, size=n)\n",
        "\n",
        "# data\n",
        "y = (f(xs) + noise).reshape(-1, 1)"
      ],
      "execution_count": 0,
      "outputs": []
    },
    {
      "cell_type": "code",
      "metadata": {
        "id": "J5kt078XKidw",
        "colab_type": "code",
        "outputId": "6d7b02b1-0efe-4b9d-f4f0-c78e6c3882a3",
        "colab": {
          "base_uri": "https://localhost:8080/",
          "height": 334
        }
      },
      "source": [
        "# visualization\n",
        "plt.figure()\n",
        "plt.plot(xs, f(xs), label='$f_1(x)$')\n",
        "plt.plot(xs, y, 'o', label='samples')\n",
        "plt.xlabel('$x$')\n",
        "plt.legend()\n",
        "plt.show()"
      ],
      "execution_count": 7,
      "outputs": [
        {
          "output_type": "display_data",
          "data": {
            "image/png": "[encoded data removed]",
            "text/plain": [
              "<Figure size 360x360 with 1 Axes>"
            ]
          },
          "metadata": {
            "tags": []
          }
        }
      ]
    },
    {
      "cell_type": "code",
      "metadata": {
        "id": "iEgUkNhkKid3",
        "colab_type": "code",
        "outputId": "81cf9ad5-f381-4380-f3ac-c48dda23fb29",
        "colab": {
          "base_uri": "https://localhost:8080/",
          "height": 233
        }
      },
      "source": [
        "# estimating coefficients of linear problem\n",
        "X = add_ones(xs)\n",
        "print('X = \\n', X[:5, :], '\\ny = \\n', y[:5])"
      ],
      "execution_count": 8,
      "outputs": [
        {
          "output_type": "stream",
          "text": [
            "X = \n",
            " [[ 1.         -1.        ]\n",
            " [ 1.         -0.94871795]\n",
            " [ 1.         -0.8974359 ]\n",
            " [ 1.         -0.84615385]\n",
            " [ 1.         -0.79487179]] \n",
            "y = \n",
            " [[-1.16710337]\n",
            " [-1.26989821]\n",
            " [-1.78378597]\n",
            " [-1.34824981]\n",
            " [-1.1395378 ]]\n"
          ],
          "name": "stdout"
        }
      ]
    },
    {
      "cell_type": "code",
      "metadata": {
        "id": "Nc7eDDAkKid7",
        "colab_type": "code",
        "colab": {}
      },
      "source": [
        "# coefficients\n",
        "beta = compute_beta(X, y, l=0)"
      ],
      "execution_count": 0,
      "outputs": []
    },
    {
      "cell_type": "code",
      "metadata": {
        "id": "PRXS2kP3Kid-",
        "colab_type": "code",
        "outputId": "26c717ec-1bef-46dc-904a-1aae3c367c27",
        "colab": {
          "base_uri": "https://localhost:8080/",
          "height": 35
        }
      },
      "source": [
        "# compute error term\n",
        "error = np.dot(X, beta) - y\n",
        "se = error.T @ error\n",
        "print(se)"
      ],
      "execution_count": 10,
      "outputs": [
        {
          "output_type": "stream",
          "text": [
            "[[2.30677261]]\n"
          ],
          "name": "stdout"
        }
      ]
    },
    {
      "cell_type": "code",
      "metadata": {
        "id": "qzJHcYOBKieD",
        "colab_type": "code",
        "colab": {}
      },
      "source": [
        "# predictions\n",
        "x_grid = np.linspace(-1, 1, 100)\n",
        "predictions = add_ones(x_grid) @ beta"
      ],
      "execution_count": 0,
      "outputs": []
    },
    {
      "cell_type": "code",
      "metadata": {
        "id": "-5BtafgbKieG",
        "colab_type": "code",
        "outputId": "9dfb567e-42a4-4e9b-97c9-fcf7372b9d70",
        "colab": {
          "base_uri": "https://localhost:8080/",
          "height": 320
        }
      },
      "source": [
        "# visualize predictions\n",
        "plt.figure()\n",
        "plt.plot(x_grid, predictions, label='predictions')\n",
        "plt.plot(x_grid, f(x_grid), label='true function')\n",
        "plt.plot(xs, y, 'o', label='samples')\n",
        "plt.legend()\n",
        "plt.show()"
      ],
      "execution_count": 12,
      "outputs": [
        {
          "output_type": "display_data",
          "data": {
            "image/png": "[encoded data removed]",
            "text/plain": [
              "<Figure size 360x360 with 1 Axes>"
            ]
          },
          "metadata": {
            "tags": []
          }
        }
      ]
    },
    {
      "cell_type": "code",
      "metadata": {
        "id": "kLwmgmjsKieK",
        "colab_type": "code",
        "colab": {}
      },
      "source": [
        "# increasing complexity of linear prediction model\n",
        "n = 30\n",
        "X = add_ones(matrix2npower(xs.reshape(-1,1), n=n))\n",
        "beta = compute_beta(X, y, l=0)"
      ],
      "execution_count": 0,
      "outputs": []
    },
    {
      "cell_type": "code",
      "metadata": {
        "id": "IhJAHiNRKieN",
        "colab_type": "code",
        "colab": {}
      },
      "source": [
        "# compute error term\n",
        "error = np.dot(X, beta) - y\n",
        "se = error.T @ error"
      ],
      "execution_count": 0,
      "outputs": []
    },
    {
      "cell_type": "code",
      "metadata": {
        "id": "KEEGIf_dKieU",
        "colab_type": "code",
        "colab": {}
      },
      "source": [
        "# predictions\n",
        "x_grid = np.linspace(-1, 1, 100)\n",
        "predictions = add_ones(matrix2npower(x_grid.reshape(-1,1), n=n)) @ beta"
      ],
      "execution_count": 0,
      "outputs": []
    },
    {
      "cell_type": "code",
      "metadata": {
        "id": "NI9TxMG_KieX",
        "colab_type": "code",
        "outputId": "bf5d3088-665d-477d-8a23-e1a80c94abd0",
        "colab": {
          "base_uri": "https://localhost:8080/",
          "height": 335
        }
      },
      "source": [
        "# visualize predictions\n",
        "plt.figure()\n",
        "plt.plot(x_grid, predictions, label='predictions')\n",
        "plt.plot(x_grid, f(x_grid), label='true function')\n",
        "plt.plot(xs, y, 'o', label='samples')\n",
        "plt.xlabel('$x$')\n",
        "plt.legend()\n",
        "plt.show()"
      ],
      "execution_count": 16,
      "outputs": [
        {
          "output_type": "display_data",
          "data": {
            "image/png": "[encoded data removed]",
            "text/plain": [
              "<Figure size 360x360 with 1 Axes>"
            ]
          },
          "metadata": {
            "tags": []
          }
        }
      ]
    },
    {
      "cell_type": "code",
      "metadata": {
        "id": "oe8ftTuhKied",
        "colab_type": "code",
        "colab": {}
      },
      "source": [
        "# generate pareto of linear model\n",
        "X = add_ones(xs)\n",
        "l_grid = np.linspace(0,.7,20)\n",
        "E1, C1 = error_complexity(X,y,l_grid)"
      ],
      "execution_count": 0,
      "outputs": []
    },
    {
      "cell_type": "code",
      "metadata": {
        "id": "eF6_StqtKiek",
        "colab_type": "code",
        "colab": {}
      },
      "source": [
        "# generate pareto of polynomial model\n",
        "n = 5\n",
        "X = add_ones(matrix2npower(xs.reshape(-1,1), n=n))\n",
        "E2, C2 = error_complexity(X,y,l_grid)"
      ],
      "execution_count": 0,
      "outputs": []
    },
    {
      "cell_type": "code",
      "metadata": {
        "id": "Ht0pnKLZKier",
        "colab_type": "code",
        "outputId": "26372b84-03a9-48b5-fbc6-335243e10139",
        "colab": {
          "base_uri": "https://localhost:8080/",
          "height": 340
        }
      },
      "source": [
        "# pareto visualization\n",
        "plt.figure()\n",
        "plt.plot(C1, E1, 'o', label='linear model')\n",
        "plt.plot(C2, E2, 'o', label='polynomial model')\n",
        "plt.xlabel(r'$\\beta^T\\beta$')\n",
        "plt.ylabel(r'$e^Te$')\n",
        "plt.legend()\n",
        "plt.show()"
      ],
      "execution_count": 19,
      "outputs": [
        {
          "output_type": "display_data",
          "data": {
            "image/png": "[encoded data removed]",
            "text/plain": [
              "<Figure size 360x360 with 1 Axes>"
            ]
          },
          "metadata": {
            "tags": []
          }
        }
      ]
    },
    {
      "cell_type": "code",
      "metadata": {
        "id": "KSYcnZYtKiez",
        "colab_type": "code",
        "colab": {}
      },
      "source": [
        "# base functions\n",
        "f = lambda x: np.exp(2*x) - 0.5\n",
        "\n",
        "# generating data\n",
        "n = 10  # number of data points\n",
        "xs = np.linspace(-1, 1, n) \n",
        "\n",
        "# gaussian noise\n",
        "np.random.seed(10)\n",
        "noise = np.random.normal(loc=0.0, scale=.6, size=n)\n",
        "\n",
        "# data\n",
        "y = (f(xs) + noise).reshape(-1, 1)"
      ],
      "execution_count": 0,
      "outputs": []
    },
    {
      "cell_type": "code",
      "metadata": {
        "id": "-nbyuz7jKie3",
        "colab_type": "code",
        "outputId": "f278b9a4-7c5d-49ff-ddeb-d499bf1246c6",
        "colab": {
          "base_uri": "https://localhost:8080/",
          "height": 334
        }
      },
      "source": [
        "# visualization\n",
        "plt.figure()\n",
        "plt.plot(xs, f(xs), label='$f_1(x)$')\n",
        "plt.plot(xs, y, 'o', label='samples')\n",
        "plt.xlabel('$x$')\n",
        "plt.legend()\n",
        "plt.show()"
      ],
      "execution_count": 21,
      "outputs": [
        {
          "output_type": "display_data",
          "data": {
            "image/png": "[encoded data removed]",
            "text/plain": [
              "<Figure size 360x360 with 1 Axes>"
            ]
          },
          "metadata": {
            "tags": []
          }
        }
      ]
    },
    {
      "cell_type": "code",
      "metadata": {
        "id": "qKEI9yDXKie6",
        "colab_type": "code",
        "colab": {}
      },
      "source": [
        "# increasing complexity of linear prediction model\n",
        "n = 3\n",
        "X = add_ones(matrix2npower(xs.reshape(-1,1), n=n))\n",
        "beta = compute_beta(X, y, l=0)"
      ],
      "execution_count": 0,
      "outputs": []
    },
    {
      "cell_type": "code",
      "metadata": {
        "id": "uR6XEYOKKifA",
        "colab_type": "code",
        "colab": {}
      },
      "source": [
        "# predictions\n",
        "x_grid = np.linspace(-1, 1, 100)\n",
        "predictions = add_ones(matrix2npower(x_grid.reshape(-1,1), n=n)) @ beta"
      ],
      "execution_count": 0,
      "outputs": []
    },
    {
      "cell_type": "code",
      "metadata": {
        "id": "3V65Uox8KifF",
        "colab_type": "code",
        "outputId": "8fc2aa8e-05d8-4b00-86ba-f1c959b37c47",
        "colab": {
          "base_uri": "https://localhost:8080/",
          "height": 334
        }
      },
      "source": [
        "# visualize predictions\n",
        "plt.figure()\n",
        "plt.plot(x_grid, predictions, label='predictions')\n",
        "plt.plot(x_grid, f(x_grid), label='true function')\n",
        "plt.plot(xs, y, 'o', label='samples')\n",
        "plt.xlabel('$x$')\n",
        "plt.legend()\n",
        "plt.show()"
      ],
      "execution_count": 24,
      "outputs": [
        {
          "output_type": "display_data",
          "data": {
            "image/png": "[encoded data removed]",
            "text/plain": [
              "<Figure size 360x360 with 1 Axes>"
            ]
          },
          "metadata": {
            "tags": []
          }
        }
      ]
    },
    {
      "cell_type": "code",
      "metadata": {
        "id": "d0cjTcvNKifK",
        "colab_type": "code",
        "colab": {}
      },
      "source": [
        ""
      ],
      "execution_count": 0,
      "outputs": []
    }
  ]
}